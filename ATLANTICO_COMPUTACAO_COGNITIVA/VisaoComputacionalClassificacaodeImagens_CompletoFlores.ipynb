{
  "nbformat": 4,
  "nbformat_minor": 0,
  "metadata": {
    "colab": {
      "name": "VisaoComputacionalClassificacaodeImagens_CompletoFlores.ipynb",
      "provenance": [],
      "collapsed_sections": []
    },
    "kernelspec": {
      "name": "python3",
      "display_name": "Python 3"
    },
    "language_info": {
      "name": "python"
    }
  },
  "cells": [
    {
      "cell_type": "markdown",
      "source": [
        "O objetivo deste projeto é classificar fotos de algumas flores. Mais especificamente, a partir de um conjunto de dados do Kaggle, temos cinco tipos de flores: Margaridas, Dentes de Leão, Rosas, Girassóis e Tulipas, totalizando 4242 imagens."
      ],
      "metadata": {
        "id": "Ufat0lnnCmN9"
      }
    },
    {
      "cell_type": "markdown",
      "source": [
        "Fonte de dados para a prática:\n",
        "https://www.kaggle.com/alxmamaev/flowers-recognition\n",
        "\n",
        "Dados foram carregados no GOOGLE DRIVE e foi feita a montagem de um drive para que o programa fizesse acesso aos dados."
      ],
      "metadata": {
        "id": "9Kqabo6-CqY6"
      }
    },
    {
      "cell_type": "markdown",
      "source": [
        "**Aluno: Geraldo Barbosa do Amarante**\n",
        " "
      ],
      "metadata": {
        "id": "h1UQBb1KFocD"
      }
    },
    {
      "cell_type": "markdown",
      "source": [
        ""
      ],
      "metadata": {
        "id": "kZpOi3zMCo_B"
      }
    },
    {
      "cell_type": "markdown",
      "source": [
        "**Prática da Aula RECONHECIMENTO DE IMAGENS** \n",
        "\n"
      ],
      "metadata": {
        "id": "lBLEELpaGIZZ"
      }
    },
    {
      "cell_type": "markdown",
      "source": [
        "**IMPORTANDO AS BIBLIOTECAS**"
      ],
      "metadata": {
        "id": "da0bkmTeIf0d"
      }
    },
    {
      "cell_type": "code",
      "source": [
        "import warnings\n",
        "warnings.filterwarnings('always')\n",
        "warnings.filterwarnings('ignore')\n",
        "import numpy as np\n",
        "import pandas as pd\n",
        "import matplotlib.pyplot as plt\n",
        "%matplotlib inline  \n",
        "import seaborn as sns \n",
        "from sklearn.model_selection import train_test_split\n",
        "import keras\n",
        "from keras.preprocessing.image import ImageDataGenerator\n",
        "from keras.models import Model\n",
        "from keras.optimizers import *\n",
        "from keras.utils import *\n",
        "from keras.utils import np_utils\n",
        "from keras.layers import Dropout, Flatten, Input, Dense\n",
        "from keras.layers import Conv2D, MaxPooling2D, BatchNormalization\n",
        "from keras.preprocessing.image import ImageDataGenerator\n",
        "import random\n",
        "import tensorflow as tf\n",
        "import cv2 as cv\n",
        "import os \n",
        "import glob"
      ],
      "metadata": {
        "id": "7C8yjCngGM0k"
      },
      "execution_count": null,
      "outputs": []
    },
    {
      "cell_type": "markdown",
      "source": [
        "**LENDO E TRATANDO OS DADOS**"
      ],
      "metadata": {
        "id": "HnGnkBpTItCb"
      }
    },
    {
      "cell_type": "code",
      "source": [
        "daisy_dir = glob.glob(os.path.join('/content/drive/MyDrive/Visao_Computacional/DataSet/Flower_Recognization/flowers/daisy/', '*'))\n",
        "dandelion_dir = glob.glob(os.path.join('/content/drive/MyDrive/Visao_Computacional/DataSet/Flower_Recognization/flowers/dandelion/', '*'))\n",
        "rose_dir = glob.glob(os.path.join('/content/drive/MyDrive/Visao_Computacional/DataSet/Flower_Recognization/flowers/rose/', '*'))\n",
        "sunflower_dir = glob.glob(os.path.join('/content/drive/MyDrive/Visao_Computacional/DataSet/Flower_Recognization/flowers/sunflower/', '*'))\n",
        "tulip_dir = glob.glob(os.path.join('/content/drive/MyDrive/Visao_Computacional/DataSet/Flower_Recognization/flowers/tulip/', '*'))\n",
        "X_path = daisy_dir + dandelion_dir + rose_dir + sunflower_dir + tulip_dir\n",
        "X = []\n",
        "for f in X_path:\n",
        "    print(f)\n",
        "    X.append(np.array(cv.resize(cv.imread(f), (224,224), interpolation = cv.INTER_AREA))) \n",
        "X = np.array(X)\n",
        "#Normalização dos dados através da divisão por 255\n",
        "X = X / 255\n",
        "print(X_path)\n"
      ],
      "metadata": {
        "id": "zjDu3jsDIy6E"
      },
      "execution_count": null,
      "outputs": []
    },
    {
      "cell_type": "markdown",
      "source": [
        "**DEFININDO OS LABELS**"
      ],
      "metadata": {
        "id": "uyACu3A-fe6f"
      }
    },
    {
      "cell_type": "code",
      "source": [
        "l_daisy = np.zeros(len(daisy_dir))\n",
        "l_dandelion = np.ones(len(dandelion_dir))\n",
        "l_rose = 2*np.ones(len(rose_dir))\n",
        "l_sunflower = 3*np.ones(len(sunflower_dir))\n",
        "l_tulip = 4*np.ones(len(tulip_dir))\n",
        "y = np.concatenate((l_daisy, l_dandelion, l_rose, l_sunflower, l_tulip))\n",
        "y = tf.keras.utils.to_categorical(y, 5)\n",
        "print(y)\n",
        "l_daisy_string = ['daisy' for i in range(len(daisy_dir))]\n",
        "l_dandelion_string = ['dandelion' for i in range(len(dandelion_dir))]\n",
        "l_tulip_string = ['tulip' for i in range(len(tulip_dir))]\n",
        "l_sunflower_string = ['sunflower' for i in range(len(sunflower_dir))]\n",
        "l_rose_string = ['rose' for i in range(len(rose_dir))]\n",
        "y_string = np.concatenate((l_daisy_string, l_dandelion_string, l_rose_string, l_sunflower_string, l_tulip_string))\n",
        "print(y_string)"
      ],
      "metadata": {
        "id": "ZGxzGTJSfjYF"
      },
      "execution_count": null,
      "outputs": []
    },
    {
      "cell_type": "code",
      "source": [
        "fig,ax=plt.subplots(2,3)\n",
        "fig.set_size_inches(15,15)\n",
        "for i in range(2):\n",
        "    for j in range (3):\n",
        "        r = random.randint(0,len(y_string))\n",
        "        ax[i,j].imshow(X[r][:,:,::-1])\n",
        "        ax[i,j].set_title('Nome da Flor : ' + y_string[r])\n",
        "        \n",
        "plt.tight_layout()"
      ],
      "metadata": {
        "id": "9DfzGHGgA4il"
      },
      "execution_count": null,
      "outputs": []
    },
    {
      "cell_type": "markdown",
      "source": [
        "**SEPARANDO TREINAMENTO E VALIDAÇÃO**"
      ],
      "metadata": {
        "id": "fe6j0mxRjBpY"
      }
    },
    {
      "cell_type": "code",
      "source": [
        "X_train, X_val, y_train, y_val = train_test_split(X, y, test_size = 0.2, random_state=42)\n"
      ],
      "metadata": {
        "id": "5W8U3RmRjI1S"
      },
      "execution_count": null,
      "outputs": []
    },
    {
      "cell_type": "code",
      "source": [
        "datagen = tf.keras.preprocessing.image.ImageDataGenerator(\n",
        "        zoom_range = 0.1, \n",
        "        rotation_range= 15, \n",
        "        width_shift_range=0.1,  \n",
        "        height_shift_range=0.1, \n",
        "        horizontal_flip=True,  \n",
        "        vertical_flip=True)\n",
        "datagen.fit(X_train)\n"
      ],
      "metadata": {
        "id": "w-x3tcHpjQo2"
      },
      "execution_count": null,
      "outputs": []
    },
    {
      "cell_type": "markdown",
      "source": [
        "**REDE NEURAL CONVOLUCIONAL DO ZERO (CNN)**"
      ],
      "metadata": {
        "id": "dD2PzQCDsw3r"
      }
    },
    {
      "cell_type": "code",
      "source": [
        "inp = Input((224,224,3))\n",
        "conv1 = Conv2D(64, (5,5), padding='valid', activation= 'relu')(inp)\n",
        "conv1 = MaxPooling2D(pool_size=(2,2))(conv1)\n",
        "conv1 = BatchNormalization()(conv1)\n",
        "conv2 = Conv2D(96, (4,4), padding='valid', activation= 'relu')(conv1)\n",
        "conv2 = MaxPooling2D(pool_size=(2,2))(conv2)\n",
        "conv2 = BatchNormalization()(conv2)\n",
        "conv3 = Conv2D(128, (3,3), padding='valid', activation= 'relu')(conv2)\n",
        "conv3 = MaxPooling2D(pool_size=(2,2))(conv3)\n",
        "conv3 = BatchNormalization()(conv3)\n",
        "conv4 = Conv2D(256, (3,3), padding='valid', activation= 'relu')(conv3)\n",
        "conv4 = MaxPooling2D(pool_size=(2,2))(conv4)\n",
        "conv4 = BatchNormalization()(conv4)\n",
        "flat = Flatten()(conv4)\n",
        "dense1 = Dense(512, activation= 'relu')(flat)\n",
        "dense1 = Dropout(0.5)(dense1)\n",
        "dense2 = Dense(64, activation= 'relu')(dense1)\n",
        "dense2 = Dropout(0.1)(dense2)\n",
        "out = Dense(5, activation = 'softmax')(dense2)\n",
        "model = Model(inp, out)\n",
        "model.compile(optimizer = tf.keras.optimizers.Nadam(lr = 0.0001) , loss = 'categorical_crossentropy', metrics=['accuracy'])\n"
      ],
      "metadata": {
        "id": "8HzDqCVis7fZ"
      },
      "execution_count": null,
      "outputs": []
    },
    {
      "cell_type": "code",
      "source": [
        "model.summary()"
      ],
      "metadata": {
        "id": "GQaG9IbENS-9"
      },
      "execution_count": null,
      "outputs": []
    },
    {
      "cell_type": "code",
      "source": [
        "#Treinamento da CNN\n",
        "nadam = tf.keras.optimizers.Nadam(lr = 0.0001)\n",
        "filepath = 'my-CNN.{epoch:02d}-{loss:.2f}-{acc:.2f}-{val_loss:.2f}-{val_acc:.2f}.hdf5'\n",
        "lr_red = keras.callbacks.ReduceLROnPlateau(monitor='acc', patience=3, verbose=1, factor=0.5, min_lr=0.000001)\n",
        "chkpoint = keras.callbacks.ModelCheckpoint(filepath, monitor='val_acc', verbose=0, save_best_only=True, save_weights_only=False, mode='auto', save_freq=1)\n",
        "model.compile(optimizer = nadam , loss = \"categorical_crossentropy\", metrics=[\"accuracy\"])\n",
        "history = model.fit(X_train, y_train, batch_size = 32, epochs = 50, initial_epoch = 0, validation_data = (X_val, y_val))"
      ],
      "metadata": {
        "id": "cJeezgU9xOES"
      },
      "execution_count": null,
      "outputs": []
    },
    {
      "cell_type": "markdown",
      "source": [
        "**GRÁFICOS**"
      ],
      "metadata": {
        "id": "ETkJ_7jCOAj2"
      }
    },
    {
      "cell_type": "code",
      "source": [
        "##Modelo de Perda\n",
        "plt.plot(history.history['loss'])\n",
        "plt.plot(history.history['val_loss'])\n",
        "plt.title('Modelo de Perda')\n",
        "plt.ylabel('Perda')\n",
        "plt.xlabel('Época')\n",
        "plt.legend(['train', 'test'])\n",
        "plt.show()\n",
        "\n",
        "##Modelo de Acurácia\n",
        "plt.plot(history.history['accuracy'])\n",
        "plt.plot(history.history['val_accuracy'])\n",
        "plt.title('Modelo de Acurácia')\n",
        "plt.ylabel('Acurácia')\n",
        "plt.xlabel('Época')\n",
        "plt.legend(['train', 'test'])\n",
        "plt.show()"
      ],
      "metadata": {
        "id": "CHgXEp_hTeJw"
      },
      "execution_count": null,
      "outputs": []
    },
    {
      "cell_type": "markdown",
      "source": [
        "**TRANSFER LEARNING**"
      ],
      "metadata": {
        "id": "YwoFq0SD95au"
      }
    },
    {
      "cell_type": "code",
      "source": [
        "vgg = tf.keras.applications.VGG16(input_shape=(224,224,3), include_top = False, weights= 'imagenet')\n"
      ],
      "metadata": {
        "id": "CThLsAo88cmq"
      },
      "execution_count": null,
      "outputs": []
    },
    {
      "cell_type": "code",
      "source": [
        "x = vgg.output\n",
        "x = Flatten()(x)\n",
        "x = Dense(3078,activation='relu')(x) \n",
        "x = Dropout(0.5)(x)\n",
        "x = Dense(256,activation='relu')(x) \n",
        "x = Dropout(0.2)(x)\n",
        "out = Dense(5,activation='softmax')(x)\n",
        "tf_model=Model(inputs=vgg.input,outputs=out)\n",
        "#Blocando o treinamento das camadas convolucionais\n",
        "for layer in tf_model.layers[:20]:\n",
        "  layer.trainable=False\n",
        "\n",
        "tf_model.summary()\n"
      ],
      "metadata": {
        "id": "g7hz8r0P_KPX"
      },
      "execution_count": null,
      "outputs": []
    },
    {
      "cell_type": "code",
      "source": [
        "filepath = 'TF-CNN.{epoch:02d}-{loss:.2f}-{acc:.2f}-{val_loss:.2f}-{val_acc:.2f}.hdf5'\n",
        "lr_red = keras.callbacks.ReduceLROnPlateau(monitor='acc', patience=3, verbose=1, factor=0.5, min_lr=0.000001)\n",
        "chkpoint = keras.callbacks.ModelCheckpoint(filepath, monitor='val_acc', verbose=0, save_best_only=True, save_weights_only=False, mode='auto', save_freq=1)\n",
        "tf_model.compile(optimizer = tf.keras.optimizers.Nadam(0.0001) , loss = 'categorical_crossentropy', metrics=[\"accuracy\"])"
      ],
      "metadata": {
        "id": "DHmfR9AOXFw3"
      },
      "execution_count": null,
      "outputs": []
    },
    {
      "cell_type": "code",
      "source": [
        "history = model.fit(X_train, y_train, batch_size = 1, epochs = 30, initial_epoch = 0, validation_data = (X_val, y_val))"
      ],
      "metadata": {
        "id": "0WuRCtAoAL53"
      },
      "execution_count": null,
      "outputs": []
    },
    {
      "cell_type": "markdown",
      "source": [
        "**GRÁFICOS**"
      ],
      "metadata": {
        "id": "AxHJ4BakfYWI"
      }
    },
    {
      "cell_type": "code",
      "source": [
        "##Modelo de Perda\n",
        "plt.plot(history.history['loss'])\n",
        "plt.plot(history.history['val_loss'])\n",
        "plt.title('Modelo de Perda')\n",
        "plt.ylabel('Perda')\n",
        "plt.xlabel('Épocas')\n",
        "plt.legend(['treino', 'teste'])\n",
        "plt.show()\n",
        "\n",
        "##Modelo de Acurácia\n",
        "plt.plot(history.history['accuracy'])\n",
        "plt.plot(history.history['val_accuracy'])\n",
        "plt.title('Modelo de Acurária')\n",
        "plt.ylabel('Accuracia')\n",
        "plt.xlabel('Épocas')\n",
        "plt.legend(['treino', 'teste'])\n",
        "plt.show()"
      ],
      "metadata": {
        "id": "3-pPULp9fbMI"
      },
      "execution_count": null,
      "outputs": []
    },
    {
      "cell_type": "markdown",
      "source": [
        "**CLASSIFICANDO ALGUNS EXEMPLOS**"
      ],
      "metadata": {
        "id": "_3HDIxWYgpha"
      }
    },
    {
      "cell_type": "code",
      "source": [
        "pred = tf_model.predict(X_val)\n",
        "pred = np.argmax(pred, axis = 1)\n",
        "pred = pd.DataFrame(pred).replace({0:'daisy',1:'dandelion',2:'rose',3:'sunflower',4:'tulip'})\n",
        "\n",
        "y_val_string = np.argmax(y_val, axis = 1)\n",
        "y_val_string = pd.DataFrame(y_val_string).replace({0:'daisy',1:'dandelion',2:'rose',3:'sunflower',4:'tulip'})"
      ],
      "metadata": {
        "id": "Sh12A0itgtcp"
      },
      "execution_count": null,
      "outputs": []
    },
    {
      "cell_type": "code",
      "source": [
        "mis_class = []\n",
        "for i in range(len(y_val_string)):\n",
        "    if(not y_val_string[0][i] == pred[0][i]):\n",
        "        mis_class.append(i)\n",
        "    if(len(mis_class)==8):\n",
        "        break"
      ],
      "metadata": {
        "id": "6dgvuxOshuIE"
      },
      "execution_count": null,
      "outputs": []
    },
    {
      "cell_type": "code",
      "source": [
        "count = 0\n",
        "fig,ax = plt.subplots(3,2)\n",
        "fig.set_size_inches(15,15)\n",
        "for i in range (3):\n",
        "    for j in range (2):\n",
        "        ax[i,j].imshow(X_val[mis_class[count]][:,:,::-1])\n",
        "        ax[i,j].set_title(\"Predicted Flower : \"+str(pred[0][mis_class[count]])+\"\\n\"+\"Actual Flower : \" + str(y_val_string[0][mis_class[count]]))\n",
        "        plt.tight_layout()\n",
        "        count+=1"
      ],
      "metadata": {
        "id": "ifNCMFzFhyfz"
      },
      "execution_count": null,
      "outputs": []
    }
  ]
}